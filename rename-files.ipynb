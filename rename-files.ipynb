{
 "cells": [
  {
   "cell_type": "code",
   "execution_count": null,
   "metadata": {},
   "outputs": [],
   "source": [
    "import os\n",
    "import datetime\n",
    "import glob"
   ]
  },
  {
   "cell_type": "code",
   "execution_count": null,
   "metadata": {},
   "outputs": [],
   "source": [
    "folder = '/Users/thaysmartinez/Desktop/'\n",
    "title_pattern = 'KGP Service - %s Status Quo Overview '\n",
    "\n",
    "# Get previous month in format YYYY-MM\n",
    "today = datetime.datetime.today()\n",
    "first_day = today.replace(day=1)\n",
    "last_month = first_day - datetime.timedelta(days=1)\n",
    "last_month = last_month.strftime('%Y-%m')\n",
    "\n",
    "# Rename file using previous file name inside new pattern\n",
    "def rename(folder, file_name, title_pattern):\n",
    "    for path_and_file in glob.glob(os.path.join(folder, file_name)):\n",
    "        title, ext = os.path.splitext(os.path.basename(path_and_file))\n",
    "        os.rename(path_and_file, os.path.join(folder, title_pattern % title + last_month + ext))"
   ]
  },
  {
   "cell_type": "code",
   "execution_count": null,
   "metadata": {},
   "outputs": [],
   "source": [
    "rename(folder, r'*.txt', title_pattern)"
   ]
  },
  {
   "cell_type": "code",
   "execution_count": null,
   "metadata": {
    "scrolled": true
   },
   "outputs": [],
   "source": [
    "os.listdir(folder)"
   ]
  }
 ],
 "metadata": {
  "kernelspec": {
   "display_name": "Python 3",
   "language": "python",
   "name": "python3"
  },
  "language_info": {
   "codemirror_mode": {
    "name": "ipython",
    "version": 3
   },
   "file_extension": ".py",
   "mimetype": "text/x-python",
   "name": "python",
   "nbconvert_exporter": "python",
   "pygments_lexer": "ipython3",
   "version": "3.7.6"
  }
 },
 "nbformat": 4,
 "nbformat_minor": 4
}
